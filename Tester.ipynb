{
 "cells": [
  {
   "cell_type": "code",
   "execution_count": 2,
   "metadata": {},
   "outputs": [],
   "source": [
    "from numpy import sum, sqrt, sort, argsort, zeros, arange, array, isclose\n",
    "from numpy.random import randint, rand\n",
    "from subprocess import call\n",
    "import matplotlib.pyplot as plt\n",
    "\n",
    "import numpy as np"
   ]
  },
  {
   "cell_type": "code",
   "execution_count": 3,
   "metadata": {},
   "outputs": [],
   "source": [
    "def write_input(X,Y):\n",
    "    n,d = X.shape\n",
    "    m,d = Y.shape\n",
    "    with open(\"data.in\", 'w') as file:\n",
    "        # Write the dimetions in the file\n",
    "        file.write(\"%d %d %d\\n\"%(n,m,d))\n",
    "    \n",
    "        #Write X in the file\n",
    "        for row in X:\n",
    "            for item in row:\n",
    "                file.write(\"%g \"%item)\n",
    "            file.write(\"\\n\")\n",
    "    \n",
    "        #Write X in the file\n",
    "        for row in Y:\n",
    "            for item in row:\n",
    "                file.write(\"%g \"%item)\n",
    "            file.write(\"\\n\")\n",
    "    return"
   ]
  },
  {
   "cell_type": "code",
   "execution_count": 150,
   "metadata": {},
   "outputs": [],
   "source": [
    "def run (k):\n",
    "    call(['./main_sequential', str(k)])"
   ]
  },
  {
   "cell_type": "code",
   "execution_count": 4,
   "metadata": {},
   "outputs": [],
   "source": [
    "def kNN(X,Y,k):\n",
    "    # sqrt( sum(X.^2,2) - 2*X*Y' + sum(Y.^2,2)' )\n",
    "    D = sqrt(\n",
    "            # sum(X.^2,2) - 2*X*Y' + sum(Y.^2,2)'\n",
    "            sum(Y**2,axis=1, keepdims=True) - 2 * Y@X.T + sum(X**2,axis=1,keepdims=True).T\n",
    "            )\n",
    "    \n",
    "    m,n   =  D.shape\n",
    "    nidx  =  zeros((m,k))\n",
    "    ndist =  zeros((m,k))\n",
    "    \n",
    "    for qp in range(m):\n",
    "        nidx[qp,:]  =  argsort(D[qp,:])[:k]\n",
    "        ndist[qp,:] =  sort(D[qp,:])[:k]\n",
    "        \n",
    "    return nidx, ndist, m, k"
   ]
  },
  {
   "cell_type": "code",
   "execution_count": 30,
   "metadata": {},
   "outputs": [],
   "source": [
    "def read_output():\n",
    "    \n",
    "    \n",
    "    with open(\"data.out\", \"r\") as file:\n",
    "        # Read the dimentions\n",
    "        first_line = file.readline()\n",
    "        m,k = list(map(int, first_line.strip().split()))\n",
    "        \n",
    "        # Read the indexes\n",
    "        nidx = zeros((m,k))\n",
    "        for i in range(m):\n",
    "            next_line = file.readline()\n",
    "            nidx[i,:] = list(map(float, next_line.strip().split()))\n",
    "        \n",
    "        # Read the distances\n",
    "        ndist = zeros((m,k))\n",
    "        for i in range(m):\n",
    "            next_line = file.readline()\n",
    "            ndist[i,:] = list(map(float, next_line.strip().split()))\n",
    "    \n",
    "    return nidx, ndist, m, k"
   ]
  },
  {
   "cell_type": "code",
   "execution_count": 351,
   "metadata": {},
   "outputs": [],
   "source": [
    "X = rand(1000, 10)\n",
    "Y = rand(2, 10)\n",
    "k = 60"
   ]
  },
  {
   "cell_type": "code",
   "execution_count": 352,
   "metadata": {},
   "outputs": [],
   "source": [
    "write_input(X,Y)\n",
    "run(k)"
   ]
  },
  {
   "cell_type": "code",
   "execution_count": 353,
   "metadata": {},
   "outputs": [],
   "source": [
    "knn = kNN(X,Y,k)"
   ]
  },
  {
   "cell_type": "code",
   "execution_count": 354,
   "metadata": {},
   "outputs": [],
   "source": [
    "res = read_output()"
   ]
  },
  {
   "cell_type": "code",
   "execution_count": 355,
   "metadata": {},
   "outputs": [],
   "source": [
    "wf   = np.where(res[0]!=knn[0])\n",
    "fidx = list(zip(wf[0],wf[1]))"
   ]
  },
  {
   "cell_type": "code",
   "execution_count": 356,
   "metadata": {},
   "outputs": [
    {
     "data": {
      "text/plain": [
       "[(0, 57),\n",
       " (0, 58),\n",
       " (0, 59),\n",
       " (1, 46),\n",
       " (1, 47),\n",
       " (1, 48),\n",
       " (1, 49),\n",
       " (1, 50),\n",
       " (1, 51),\n",
       " (1, 52),\n",
       " (1, 53),\n",
       " (1, 54),\n",
       " (1, 55),\n",
       " (1, 56),\n",
       " (1, 57),\n",
       " (1, 58),\n",
       " (1, 59)]"
      ]
     },
     "execution_count": 356,
     "metadata": {},
     "output_type": "execute_result"
    }
   ],
   "source": [
    "fidx"
   ]
  },
  {
   "cell_type": "code",
   "execution_count": 365,
   "metadata": {},
   "outputs": [
    {
     "data": {
      "text/plain": [
       "1.016427"
      ]
     },
     "execution_count": 365,
     "metadata": {},
     "output_type": "execute_result"
    }
   ],
   "source": [
    "res[1][fidx[4]]"
   ]
  },
  {
   "cell_type": "code",
   "execution_count": 366,
   "metadata": {},
   "outputs": [
    {
     "data": {
      "text/plain": [
       "1.0129145135861695"
      ]
     },
     "execution_count": 366,
     "metadata": {},
     "output_type": "execute_result"
    }
   ],
   "source": [
    "knn[1][fidx[4]]"
   ]
  },
  {
   "cell_type": "code",
   "execution_count": null,
   "metadata": {},
   "outputs": [],
   "source": []
  }
 ],
 "metadata": {
  "kernelspec": {
   "display_name": "Python 3",
   "language": "python",
   "name": "python3"
  },
  "language_info": {
   "codemirror_mode": {
    "name": "ipython",
    "version": 3
   },
   "file_extension": ".py",
   "mimetype": "text/x-python",
   "name": "python",
   "nbconvert_exporter": "python",
   "pygments_lexer": "ipython3",
   "version": "3.7.4"
  }
 },
 "nbformat": 4,
 "nbformat_minor": 2
}
