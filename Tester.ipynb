{
 "cells": [
  {
   "cell_type": "code",
   "execution_count": 1,
   "metadata": {},
   "outputs": [],
   "source": [
    "from numpy import sum, sqrt, sort, argsort, zeros, arange, array, isclose, max\n",
    "from numpy.random import randint, rand\n",
    "from subprocess import call\n",
    "import matplotlib.pyplot as plt\n",
    "\n",
    "import numpy as np"
   ]
  },
  {
   "cell_type": "code",
   "execution_count": 2,
   "metadata": {},
   "outputs": [],
   "source": [
    "distance = lambda X,Y :sqrt(\n",
    "    sum(Y**2,axis=1, keepdims=True) - 2 * Y@X.T + sum(X**2,axis=1,keepdims=True).T\n",
    ")"
   ]
  },
  {
   "cell_type": "code",
   "execution_count": 3,
   "metadata": {},
   "outputs": [],
   "source": [
    "def write_input(X,Y):\n",
    "    n,d = X.shape\n",
    "    m,d = Y.shape\n",
    "    with open(\"data.in\", 'w') as file:\n",
    "        # Write the dimetions in the file\n",
    "        file.write(\"%d %d %d\\n\"%(n,m,d))\n",
    "    \n",
    "        #Write X in the file\n",
    "        for row in X:\n",
    "            for item in row:\n",
    "                file.write(\"%g \"%item)\n",
    "            file.write(\"\\n\")\n",
    "    \n",
    "        #Write X in the file\n",
    "        for row in Y:\n",
    "            for item in row:\n",
    "                file.write(\"%g \"%item)\n",
    "            file.write(\"\\n\")\n",
    "    return"
   ]
  },
  {
   "cell_type": "code",
   "execution_count": 4,
   "metadata": {},
   "outputs": [],
   "source": [
    "def read_input():\n",
    "    with open(\"data.in\", \"r\") as file:\n",
    "        # Read the dimentions\n",
    "        first_line = file.readline()\n",
    "        n,m,d = list(map(int, first_line.strip().split()))\n",
    "        \n",
    "        # Read the corpus\n",
    "        X = zeros((n,d))\n",
    "        for i in range(n):\n",
    "            next_line = file.readline()\n",
    "            X[i,:] = list(map(float, next_line.strip().split()))\n",
    "        \n",
    "        # Read the distances\n",
    "        Y = zeros((m,d))\n",
    "        for i in range(m):\n",
    "            next_line = file.readline()\n",
    "            Y[i,:] = list(map(float, next_line.strip().split()))\n",
    "    \n",
    "    return n,m,d,X,Y"
   ]
  },
  {
   "cell_type": "code",
   "execution_count": 5,
   "metadata": {},
   "outputs": [],
   "source": [
    "def run (k):\n",
    "    call(['./main_sequential', str(k)])"
   ]
  },
  {
   "cell_type": "code",
   "execution_count": 6,
   "metadata": {},
   "outputs": [],
   "source": [
    "def kNN(X,Y,k):\n",
    "    # sqrt( sum(X.^2,2) - 2*X*Y' + sum(Y.^2,2)' )\n",
    "    D = sqrt(\n",
    "            # sum(X.^2,2) - 2*X*Y' + sum(Y.^2,2)'\n",
    "            sum(Y**2,axis=1, keepdims=True) - 2 * Y@X.T + sum(X**2,axis=1,keepdims=True).T\n",
    "            )\n",
    "    \n",
    "    m,n   =  D.shape\n",
    "    nidx  =  zeros((m,k), dtype=int)\n",
    "    ndist =  zeros((m,k))\n",
    "    \n",
    "    for qp in range(m):\n",
    "        nidx[qp,:]  =  argsort(D[qp,:])[:k]\n",
    "        ndist[qp,:] =  sort(D[qp,:])[:k]\n",
    "        \n",
    "    return nidx, ndist, m, k"
   ]
  },
  {
   "cell_type": "code",
   "execution_count": 12,
   "metadata": {},
   "outputs": [],
   "source": [
    "def read_output():\n",
    "    \n",
    "    \n",
    "    with open(\"data.out\", \"r\") as file:\n",
    "        # Read the dimentions\n",
    "        first_line = file.readline()\n",
    "        m,k = list(map(int, first_line.strip().split()))\n",
    "        \n",
    "        # Read the indexes\n",
    "        nidx = zeros((m,k), dtype=int)\n",
    "        for i in range(m):\n",
    "            next_line = file.readline()\n",
    "            nidx[i,:] = list(map(float, next_line.strip().split()))\n",
    "        \n",
    "        # Read the distances\n",
    "        ndist = zeros((m,k))\n",
    "        for i in range(m):\n",
    "            next_line = file.readline()\n",
    "            ndist[i,:] = list(map(float, next_line.strip().split()))\n",
    "    \n",
    "    return nidx, ndist, m, k"
   ]
  },
  {
   "cell_type": "code",
   "execution_count": 106,
   "metadata": {},
   "outputs": [],
   "source": [
    "def test(X,Y,k):\n",
    "    \n",
    "    response = {True: 'CORRECT', False: 'WRONG'}\n",
    "    \n",
    "    res = True\n",
    "    \n",
    "    # Run the program\n",
    "    write_input(X,Y)\n",
    "    run(k)\n",
    "    nidx,ndist,m,k = read_output()\n",
    "    \n",
    "    # Check that distances are correct\n",
    "    D = distance(X,Y)\n",
    "    \n",
    "    # (i) Checking that reported distances are correct\n",
    "    res = True\n",
    "    for i,d in enumerate(D):\n",
    "        res = res and isclose(ndist[i], d[nidx[i,:]]).all()\n",
    "        \n",
    "    # (ii)  Validating that distances are sorted in non-decreasing order  \n",
    "    res = res and (ndist[:, :-1] < ndist[:,1:]).all()\n",
    "    \n",
    "    # (iii) Ensuring there are no other points closer than the kth neighbor\n",
    "    maxDist = max(ndist, axis=1)\n",
    "    minDist = zeros(m)\n",
    "    for i,dist in enumerate(D):\n",
    "        minDist[i] = min([ d for j,d in enumerate(dist) if j not in nidx[i] ])\n",
    "    minDist.shape\n",
    "    res = res and (minDist > maxDist).all()\n",
    "    \n",
    "    return response[res]"
   ]
  },
  {
   "cell_type": "code",
   "execution_count": 95,
   "metadata": {},
   "outputs": [],
   "source": [
    "n,m,d,X,Y = read_input()\n",
    "k = 13"
   ]
  },
  {
   "cell_type": "code",
   "execution_count": 96,
   "metadata": {},
   "outputs": [],
   "source": [
    "# Run the program\n",
    "write_input(X,Y)\n",
    "run(k)\n",
    "nidx,ndist,m,k = read_output()"
   ]
  },
  {
   "cell_type": "code",
   "execution_count": 108,
   "metadata": {},
   "outputs": [
    {
     "data": {
      "text/plain": [
       "'CORRECT'"
      ]
     },
     "execution_count": 108,
     "metadata": {},
     "output_type": "execute_result"
    }
   ],
   "source": [
    "test(X,Y,k)"
   ]
  }
 ],
 "metadata": {
  "kernelspec": {
   "display_name": "Python 3",
   "language": "python",
   "name": "python3"
  },
  "language_info": {
   "codemirror_mode": {
    "name": "ipython",
    "version": 3
   },
   "file_extension": ".py",
   "mimetype": "text/x-python",
   "name": "python",
   "nbconvert_exporter": "python",
   "pygments_lexer": "ipython3",
   "version": "3.7.4"
  }
 },
 "nbformat": 4,
 "nbformat_minor": 2
}
